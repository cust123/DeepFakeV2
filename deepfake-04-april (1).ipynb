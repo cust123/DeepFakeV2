{
 "cells": [
  {
   "cell_type": "code",
   "execution_count": null,
   "metadata": {
    "colab": {
     "base_uri": "https://localhost:8080/"
    },
    "id": "UUGfjh_4dUS6",
    "outputId": "6b13ffa9-7815-43c3-efed-1c977f42a80f",
    "trusted": true
   },
   "outputs": [],
   "source": [
    "\n",
    "import kagglehub\n",
    "\n",
    "# Download the deepfake dataset from Kaggle\n",
    "path = kagglehub.dataset_download(\"aryansingh16/deepfake-dataset\")\n",
    "print(\"Path to dataset files:\", path)\n",
    "\n",
    "\n",
    "\n"
   ]
  },
  {
   "cell_type": "code",
   "execution_count": 1,
   "metadata": {
    "execution": {
     "iopub.execute_input": "2025-04-04T05:40:26.270222Z",
     "iopub.status.busy": "2025-04-04T05:40:26.270005Z",
     "iopub.status.idle": "2025-04-04T05:40:26.273748Z",
     "shell.execute_reply": "2025-04-04T05:40:26.272883Z",
     "shell.execute_reply.started": "2025-04-04T05:40:26.270200Z"
    },
    "id": "1p8_MAVwee0l",
    "trusted": true
   },
   "outputs": [],
   "source": [
    "# !unzip -q {path} -d /content/real_vs_fake"
   ]
  },
  {
   "cell_type": "markdown",
   "metadata": {
    "id": "AtFJD3IuBXGu"
   },
   "source": [
    "# Checking the Downloaded Dataset Files\n",
    "\n",
    "# Ensures that the dataset downloaded correctly.\n"
   ]
  },
  {
   "cell_type": "code",
   "execution_count": 2,
   "metadata": {
    "execution": {
     "iopub.execute_input": "2025-04-04T05:40:26.274742Z",
     "iopub.status.busy": "2025-04-04T05:40:26.274389Z",
     "iopub.status.idle": "2025-04-04T05:40:26.301686Z",
     "shell.execute_reply": "2025-04-04T05:40:26.300939Z",
     "shell.execute_reply.started": "2025-04-04T05:40:26.274713Z"
    },
    "trusted": true
   },
   "outputs": [
    {
     "name": "stdout",
     "output_type": "stream",
     "text": [
      "Contents of the dataset directory:\n",
      "['real_vs_fake']\n"
     ]
    }
   ],
   "source": [
    "import os\n",
    "\n",
    "dataset_path = \"/kaggle/input/deepfake-dataset\"\n",
    "print(\"Contents of the dataset directory:\")\n",
    "print(os.listdir(dataset_path))\n"
   ]
  },
  {
   "cell_type": "code",
   "execution_count": 3,
   "metadata": {
    "colab": {
     "base_uri": "https://localhost:8080/"
    },
    "execution": {
     "iopub.execute_input": "2025-04-04T05:40:26.302723Z",
     "iopub.status.busy": "2025-04-04T05:40:26.302501Z",
     "iopub.status.idle": "2025-04-04T05:40:26.311403Z",
     "shell.execute_reply": "2025-04-04T05:40:26.310644Z",
     "shell.execute_reply.started": "2025-04-04T05:40:26.302694Z"
    },
    "id": "4-7C0_ckf1v1",
    "outputId": "f009ccff-8375-4755-9e2a-20925d970c15",
    "trusted": true
   },
   "outputs": [
    {
     "name": "stdout",
     "output_type": "stream",
     "text": [
      "Contents of real_vs_fake:\n",
      "['real-vs-fake']\n"
     ]
    }
   ],
   "source": [
    "import os\n",
    "\n",
    "dataset_path = \"/kaggle/input/deepfake-dataset/real_vs_fake\"\n",
    "\n",
    "# List the contents of the dataset\n",
    "print(\"Contents of real_vs_fake:\")\n",
    "print(os.listdir(dataset_path))\n"
   ]
  },
  {
   "cell_type": "code",
   "execution_count": 4,
   "metadata": {
    "colab": {
     "base_uri": "https://localhost:8080/"
    },
    "execution": {
     "iopub.execute_input": "2025-04-04T05:40:26.313379Z",
     "iopub.status.busy": "2025-04-04T05:40:26.313195Z",
     "iopub.status.idle": "2025-04-04T05:40:26.331819Z",
     "shell.execute_reply": "2025-04-04T05:40:26.331129Z",
     "shell.execute_reply.started": "2025-04-04T05:40:26.313363Z"
    },
    "id": "2dcvep2ogFFH",
    "outputId": "397420bb-4c79-4cef-a224-7d736d8550ae",
    "trusted": true
   },
   "outputs": [
    {
     "name": "stdout",
     "output_type": "stream",
     "text": [
      "Contents of 'real-vs-fake':\n",
      "['valid', 'test', 'train']\n"
     ]
    }
   ],
   "source": [
    "import os\n",
    "\n",
    "# Define the path to the 'real-vs-fake' directory\n",
    "real_vs_fake_path = os.path.join(dataset_path, 'real-vs-fake')\n",
    "\n",
    "# List the contents of the 'real-vs-fake' directory\n",
    "print(\"Contents of 'real-vs-fake':\")\n",
    "print(os.listdir(real_vs_fake_path))\n"
   ]
  },
  {
   "cell_type": "code",
   "execution_count": 5,
   "metadata": {
    "colab": {
     "base_uri": "https://localhost:8080/"
    },
    "execution": {
     "iopub.execute_input": "2025-04-04T05:40:26.332783Z",
     "iopub.status.busy": "2025-04-04T05:40:26.332555Z",
     "iopub.status.idle": "2025-04-04T05:40:26.369368Z",
     "shell.execute_reply": "2025-04-04T05:40:26.368260Z",
     "shell.execute_reply.started": "2025-04-04T05:40:26.332761Z"
    },
    "id": "KPqRP4PTgOUY",
    "outputId": "7173f2fd-8eb5-4e5f-faf2-01ea4aaf56ce",
    "trusted": true
   },
   "outputs": [
    {
     "name": "stdout",
     "output_type": "stream",
     "text": [
      "Contents of 'train' directory:\n",
      "['fake', 'real']\n",
      "\n",
      "Contents of 'valid' directory:\n",
      "['fake', 'real']\n",
      "\n",
      "Contents of 'test' directory:\n",
      "['fake', 'real']\n",
      "\n"
     ]
    }
   ],
   "source": [
    "import os\n",
    "\n",
    "# Define the path to the 'real-vs-fake' directory\n",
    "real_vs_fake_path = \"/kaggle/input/deepfake-dataset/real_vs_fake/real-vs-fake\"\n",
    "\n",
    "# This loops through the three dataset folders: train, valid, and test.\n",
    "for split in ['train', 'valid', 'test']:\n",
    "    #dynamically creates the path to each folder.\n",
    "    split_path = os.path.join(real_vs_fake_path, split)\n",
    "    print(f\"Contents of '{split}' directory:\")\n",
    "    print(os.listdir(split_path))\n",
    "    print()\n"
   ]
  },
  {
   "cell_type": "code",
   "execution_count": 6,
   "metadata": {
    "colab": {
     "base_uri": "https://localhost:8080/"
    },
    "execution": {
     "iopub.execute_input": "2025-04-04T05:40:26.370660Z",
     "iopub.status.busy": "2025-04-04T05:40:26.370426Z",
     "iopub.status.idle": "2025-04-04T05:40:39.157925Z",
     "shell.execute_reply": "2025-04-04T05:40:39.156930Z",
     "shell.execute_reply.started": "2025-04-04T05:40:26.370639Z"
    },
    "id": "2xoJB-bHgh99",
    "outputId": "6e486714-de23-498e-b3bb-3578ed2817ab",
    "trusted": true
   },
   "outputs": [
    {
     "name": "stdout",
     "output_type": "stream",
     "text": [
      "Libraries imported and dataset path set.\n"
     ]
    }
   ],
   "source": [
    "import os\n",
    "# For numerical operations\n",
    "import numpy as np\n",
    "#deep learning framework ,  for building and training neural networks.\n",
    "import tensorflow as tf\n",
    "from tensorflow import keras\n",
    "\n",
    "# Define dataset path, stores the dataset's location\n",
    "DATASET_PATH = \"/kaggle/input/deepfake-dataset/real_vs_fake/real-vs-fake\"\n",
    "\n",
    "print(\"Libraries imported and dataset path set.\")\n"
   ]
  },
  {
   "cell_type": "code",
   "execution_count": 7,
   "metadata": {
    "colab": {
     "base_uri": "https://localhost:8080/"
    },
    "execution": {
     "iopub.execute_input": "2025-04-04T05:40:39.159245Z",
     "iopub.status.busy": "2025-04-04T05:40:39.158786Z",
     "iopub.status.idle": "2025-04-04T05:40:39.228223Z",
     "shell.execute_reply": "2025-04-04T05:40:39.227395Z",
     "shell.execute_reply.started": "2025-04-04T05:40:39.159221Z"
    },
    "id": "-cdp-H8Dguax",
    "outputId": "0a02990c-a6cb-41a1-90b9-b8d93cc91ce4",
    "trusted": true
   },
   "outputs": [
    {
     "name": "stdout",
     "output_type": "stream",
     "text": [
      " Data augmentation and rescaling defined.\n"
     ]
    }
   ],
   "source": [
    "# Define image size and batch size\n",
    "IMG_SIZE = (224, 224)\n",
    "BATCH_SIZE = 32 # loading and processing 32 image at one time for processing, to optimize the memory\n",
    "\n",
    "# Data Augmentation for training images (  prevent overfitting by generating more diverse training samples.)\n",
    "train_datagen = keras.preprocessing.image.ImageDataGenerator(\n",
    "        rescale=1./255,\n",
    "    rotation_range=20,\n",
    "    width_shift_range=0.1,\n",
    "    height_shift_range=0.1,\n",
    "    zoom_range=0.2,\n",
    "    horizontal_flip=True\n",
    ")\n",
    "\n",
    "# Validation & Test ( only rescaling)\n",
    "valid_test_datagen = keras.preprocessing.image.ImageDataGenerator(rescale=1./255)\n",
    "\n",
    "print(\" Data augmentation and rescaling defined.\")\n"
   ]
  },
  {
   "cell_type": "code",
   "execution_count": 8,
   "metadata": {
    "colab": {
     "base_uri": "https://localhost:8080/"
    },
    "execution": {
     "iopub.execute_input": "2025-04-04T05:40:39.229251Z",
     "iopub.status.busy": "2025-04-04T05:40:39.229021Z",
     "iopub.status.idle": "2025-04-04T05:46:13.121980Z",
     "shell.execute_reply": "2025-04-04T05:46:13.121193Z",
     "shell.execute_reply.started": "2025-04-04T05:40:39.229231Z"
    },
    "id": "RXxhc4xHg24V",
    "outputId": "1e050131-dffc-4af6-fcc4-2837753afba4",
    "trusted": true
   },
   "outputs": [
    {
     "name": "stdout",
     "output_type": "stream",
     "text": [
      "Found 102041 images belonging to 2 classes.\n",
      "Found 20000 images belonging to 2 classes.\n",
      "Found 20000 images belonging to 2 classes.\n",
      "Data generators are ready.\n"
     ]
    }
   ],
   "source": [
    "# Loading and Preparing Dataset for Deepfake Detection\n",
    "\n",
    "# Define dataset paths\n",
    "train_dir = os.path.join(dataset_path, \"real-vs-fake\", \"train\")\n",
    "valid_dir = os.path.join(dataset_path, \"real-vs-fake\", \"valid\")\n",
    "test_dir = os.path.join(dataset_path, \"real-vs-fake\", \"test\")\n",
    "\n",
    "# Create training generator\n",
    "train_generator = train_datagen.flow_from_directory(\n",
    "    train_dir,\n",
    "    target_size=IMG_SIZE,\n",
    "    batch_size=BATCH_SIZE,\n",
    "    class_mode='binary'\n",
    ")\n",
    "\n",
    "# Create validation generator\n",
    "valid_generator = valid_test_datagen.flow_from_directory(\n",
    "    valid_dir,\n",
    "    target_size=IMG_SIZE,\n",
    "    batch_size=BATCH_SIZE,\n",
    "    class_mode='binary'\n",
    ")\n",
    "\n",
    "# Create test generator\n",
    "test_generator = valid_test_datagen.flow_from_directory(\n",
    "    test_dir,\n",
    "    target_size=IMG_SIZE,\n",
    "    batch_size=BATCH_SIZE,\n",
    "    class_mode='binary',\n",
    "    shuffle=False\n",
    ")\n",
    "\n",
    "print(\"Data generators are ready.\")\n"
   ]
  },
  {
   "cell_type": "markdown",
   "metadata": {
    "id": "3mC485Rvg-rF"
   },
   "source": [
    "# **Build the Model Using EfficientNetB3 Backbone**\n",
    "\n",
    "Now, let's define the CNN model using EfficientNetB3 as the backbone for feature extraction, with a dropout layer for regularization and a final fully connected layer for binary classification\n"
   ]
  },
  {
   "cell_type": "code",
   "execution_count": 9,
   "metadata": {
    "colab": {
     "base_uri": "https://localhost:8080/"
    },
    "execution": {
     "iopub.execute_input": "2025-04-04T05:46:13.123273Z",
     "iopub.status.busy": "2025-04-04T05:46:13.122947Z",
     "iopub.status.idle": "2025-04-04T05:46:17.978687Z",
     "shell.execute_reply": "2025-04-04T05:46:17.977856Z",
     "shell.execute_reply.started": "2025-04-04T05:46:13.123240Z"
    },
    "id": "GpK7q7dwhDcB",
    "outputId": "63ac1e68-c2f1-49a0-84d9-d4ded3facae6",
    "trusted": true
   },
   "outputs": [
    {
     "name": "stdout",
     "output_type": "stream",
     "text": [
      "Downloading data from https://storage.googleapis.com/keras-applications/efficientnetb3_notop.h5\n",
      "\u001b[1m43941136/43941136\u001b[0m \u001b[32m━━━━━━━━━━━━━━━━━━━━\u001b[0m\u001b[37m\u001b[0m \u001b[1m0s\u001b[0m 0us/step\n",
      "Model built and compiled.\n"
     ]
    }
   ],
   "source": [
    "# Build the model with EfficientNetB3 backbone\n",
    "base_model = keras.applications.EfficientNetB3(\n",
    "    include_top=False,\n",
    "    weights='imagenet',  # Use ImageNet weights for transfer learning\n",
    "    input_shape=(IMG_SIZE[0], IMG_SIZE[1], 3)\n",
    ")\n",
    "\n",
    "# Freeze the base model initially to avoid training the weights during the first phase training\n",
    "base_model.trainable = False\n",
    "\n",
    "# Build the top layers for the model\n",
    "inputs = keras.Input(shape=(IMG_SIZE[0], IMG_SIZE[1], 3))\n",
    "x = keras.applications.efficientnet.preprocess_input(inputs)\n",
    "x = base_model(x, training=False)\n",
    "x = keras.layers.GlobalAveragePooling2D()(x)\n",
    "x = keras.layers.Dropout(0.5)(x)\n",
    "outputs = keras.layers.Dense(1, activation='sigmoid')(x)\n",
    "\n",
    "# Create the complete model\n",
    "model = keras.Model(inputs, outputs)\n",
    "\n",
    "# Compile the model with Adam optimizer\n",
    "model.compile(\n",
    "    optimizer=keras.optimizers.Adam(learning_rate=1e-4),\n",
    "    loss='binary_crossentropy',\n",
    "    metrics=['accuracy']\n",
    ")\n",
    "\n",
    "print(\"Model built and compiled.\")\n"
   ]
  },
  {
   "cell_type": "markdown",
   "metadata": {
    "id": "CHelyIn7hUWo"
   },
   "source": [
    "# **Define Callbacks for Model Training**\n",
    "\n",
    "Now, let's define the callbacks that will be used during training to save the best model, reduce the learning rate, and stop early if needed.\n"
   ]
  },
  {
   "cell_type": "code",
   "execution_count": 10,
   "metadata": {
    "colab": {
     "base_uri": "https://localhost:8080/"
    },
    "execution": {
     "iopub.execute_input": "2025-04-04T05:46:17.981310Z",
     "iopub.status.busy": "2025-04-04T05:46:17.981065Z",
     "iopub.status.idle": "2025-04-04T05:46:17.986766Z",
     "shell.execute_reply": "2025-04-04T05:46:17.985887Z",
     "shell.execute_reply.started": "2025-04-04T05:46:17.981289Z"
    },
    "id": "UDolUFBJheEQ",
    "outputId": "e7c1f22f-8977-4888-e328-6cf57366b6a2",
    "trusted": true
   },
   "outputs": [
    {
     "name": "stdout",
     "output_type": "stream",
     "text": [
      "Callbacks defined.\n"
     ]
    }
   ],
   "source": [
    "# Define the path to save the best model\n",
    "checkpoint_path = \"best_model.keras\"\n",
    "\n",
    "# ModelCheckpoint: Save the best model based on validation accuracy\n",
    "checkpoint_cb = keras.callbacks.ModelCheckpoint(\n",
    "    checkpoint_path,\n",
    "    monitor='val_accuracy',\n",
    "    mode='max',\n",
    "    save_best_only=True,\n",
    "    verbose=1\n",
    ")\n",
    "\n",
    "# ReduceLROnPlateau: Reduce learning rate if validation loss stops improving\n",
    "reduce_lr_cb = keras.callbacks.ReduceLROnPlateau(\n",
    "    monitor='val_loss',\n",
    "    factor=0.5,\n",
    "    patience=2,\n",
    "    verbose=1\n",
    ")\n",
    "\n",
    "# EarlyStopping: Stop training if validation loss stops improving\n",
    "early_stop_cb = keras.callbacks.EarlyStopping(\n",
    "    monitor='val_loss',\n",
    "    patience=2,\n",
    "    restore_best_weights=True,\n",
    "    verbose=1\n",
    ")\n",
    "\n",
    "# CSVLogger: Log training history to a CSV file\n",
    "csv_logger = keras.callbacks.CSVLogger(\"training_log.csv\", append=True)\n",
    "\n",
    "print(\"Callbacks defined.\")\n"
   ]
  },
  {
   "cell_type": "code",
   "execution_count": 11,
   "metadata": {
    "colab": {
     "base_uri": "https://localhost:8080/"
    },
    "execution": {
     "iopub.execute_input": "2025-04-04T05:46:17.990563Z",
     "iopub.status.busy": "2025-04-04T05:46:17.990310Z",
     "iopub.status.idle": "2025-04-04T05:46:18.004664Z",
     "shell.execute_reply": "2025-04-04T05:46:18.003973Z",
     "shell.execute_reply.started": "2025-04-04T05:46:17.990543Z"
    },
    "id": "g4dhCuGlixs_",
    "outputId": "32c90f27-eb49-48ee-9309-45dbc3d5b3ea",
    "trusted": true
   },
   "outputs": [
    {
     "name": "stdout",
     "output_type": "stream",
     "text": [
      "Using device: /device:GPU:0\n"
     ]
    }
   ],
   "source": [
    "print(\"Using device:\", tf.test.gpu_device_name())\n"
   ]
  },
  {
   "cell_type": "markdown",
   "metadata": {
    "id": "qqFi0XxjhopS"
   },
   "source": [
    "# **Train the Model**\n",
    "\n",
    "Now, let's train the model using the defined callbacks, data generators, and model.\n"
   ]
  },
  {
   "cell_type": "code",
   "execution_count": 12,
   "metadata": {
    "colab": {
     "base_uri": "https://localhost:8080/"
    },
    "execution": {
     "iopub.execute_input": "2025-04-04T05:46:18.005707Z",
     "iopub.status.busy": "2025-04-04T05:46:18.005450Z",
     "iopub.status.idle": "2025-04-04T07:37:07.097849Z",
     "shell.execute_reply": "2025-04-04T07:37:07.097051Z",
     "shell.execute_reply.started": "2025-04-04T05:46:18.005674Z"
    },
    "id": "vX196-IIhu3_",
    "outputId": "a76d8c6d-9210-4f5d-ff70-40482e8cc547",
    "trusted": true
   },
   "outputs": [
    {
     "name": "stdout",
     "output_type": "stream",
     "text": [
      "Epoch 1/4\n"
     ]
    },
    {
     "name": "stderr",
     "output_type": "stream",
     "text": [
      "/usr/local/lib/python3.10/dist-packages/keras/src/trainers/data_adapters/py_dataset_adapter.py:122: UserWarning: Your `PyDataset` class should call `super().__init__(**kwargs)` in its constructor. `**kwargs` can include `workers`, `use_multiprocessing`, `max_queue_size`. Do not pass these arguments to `fit()`, as they will be ignored.\n",
      "  self._warn_if_super_not_called()\n"
     ]
    },
    {
     "name": "stdout",
     "output_type": "stream",
     "text": [
      "\u001b[1m3189/3189\u001b[0m \u001b[32m━━━━━━━━━━━━━━━━━━━━\u001b[0m\u001b[37m\u001b[0m \u001b[1m0s\u001b[0m 696ms/step - accuracy: 0.4994 - loss: 0.7006\n",
      "Epoch 1: val_accuracy improved from -inf to 0.50000, saving model to best_model.keras\n",
      "\u001b[1m3189/3189\u001b[0m \u001b[32m━━━━━━━━━━━━━━━━━━━━\u001b[0m\u001b[37m\u001b[0m \u001b[1m2496s\u001b[0m 770ms/step - accuracy: 0.4994 - loss: 0.7006 - val_accuracy: 0.5000 - val_loss: 0.6938 - learning_rate: 1.0000e-04\n",
      "Epoch 2/4\n",
      "\u001b[1m3189/3189\u001b[0m \u001b[32m━━━━━━━━━━━━━━━━━━━━\u001b[0m\u001b[37m\u001b[0m \u001b[1m0s\u001b[0m 408ms/step - accuracy: 0.5020 - loss: 0.6983\n",
      "Epoch 2: val_accuracy improved from 0.50000 to 0.50010, saving model to best_model.keras\n",
      "\u001b[1m3189/3189\u001b[0m \u001b[32m━━━━━━━━━━━━━━━━━━━━\u001b[0m\u001b[37m\u001b[0m \u001b[1m1390s\u001b[0m 435ms/step - accuracy: 0.5020 - loss: 0.6983 - val_accuracy: 0.5001 - val_loss: 0.6931 - learning_rate: 1.0000e-04\n",
      "Epoch 3/4\n",
      "\u001b[1m3189/3189\u001b[0m \u001b[32m━━━━━━━━━━━━━━━━━━━━\u001b[0m\u001b[37m\u001b[0m \u001b[1m0s\u001b[0m 425ms/step - accuracy: 0.4983 - loss: 0.6975\n",
      "Epoch 3: val_accuracy improved from 0.50010 to 0.52150, saving model to best_model.keras\n",
      "\u001b[1m3189/3189\u001b[0m \u001b[32m━━━━━━━━━━━━━━━━━━━━\u001b[0m\u001b[37m\u001b[0m \u001b[1m1426s\u001b[0m 446ms/step - accuracy: 0.4983 - loss: 0.6975 - val_accuracy: 0.5215 - val_loss: 0.6929 - learning_rate: 1.0000e-04\n",
      "Epoch 4/4\n",
      "\u001b[1m3189/3189\u001b[0m \u001b[32m━━━━━━━━━━━━━━━━━━━━\u001b[0m\u001b[37m\u001b[0m \u001b[1m0s\u001b[0m 400ms/step - accuracy: 0.5007 - loss: 0.6963\n",
      "Epoch 4: val_accuracy did not improve from 0.52150\n",
      "\u001b[1m3189/3189\u001b[0m \u001b[32m━━━━━━━━━━━━━━━━━━━━\u001b[0m\u001b[37m\u001b[0m \u001b[1m1335s\u001b[0m 418ms/step - accuracy: 0.5007 - loss: 0.6963 - val_accuracy: 0.5000 - val_loss: 0.6933 - learning_rate: 1.0000e-04\n",
      "Restoring model weights from the end of the best epoch: 3.\n",
      " Training complete!\n"
     ]
    }
   ],
   "source": [
    "# Train the model\n",
    "epochs = 4\n",
    "\n",
    "history = model.fit(\n",
    "    train_generator,\n",
    "    validation_data=valid_generator,\n",
    "    epochs=epochs,\n",
    "    callbacks=[checkpoint_cb, reduce_lr_cb, early_stop_cb, csv_logger]\n",
    ")\n",
    "\n",
    "print(\" Training complete!\")\n"
   ]
  },
  {
   "cell_type": "markdown",
   "metadata": {
    "id": "Yg1Ll6zjDIsE"
   },
   "source": [
    "# Unfreeze Base Model for Fine-Tuning\n"
   ]
  },
  {
   "cell_type": "code",
   "execution_count": 13,
   "metadata": {
    "colab": {
     "base_uri": "https://localhost:8080/"
    },
    "execution": {
     "iopub.execute_input": "2025-04-04T07:37:07.099386Z",
     "iopub.status.busy": "2025-04-04T07:37:07.098814Z",
     "iopub.status.idle": "2025-04-04T07:37:07.114109Z",
     "shell.execute_reply": "2025-04-04T07:37:07.113416Z",
     "shell.execute_reply.started": "2025-04-04T07:37:07.099362Z"
    },
    "id": "ixcGsZrLDKxC",
    "outputId": "aaa9b014-afa7-4e82-e059-87351c252469",
    "trusted": true
   },
   "outputs": [
    {
     "name": "stdout",
     "output_type": "stream",
     "text": [
      "Base model unfrozen and recompiled.\n"
     ]
    }
   ],
   "source": [
    "# Unfreeze the base model\n",
    "base_model.trainable = True\n",
    "\n",
    "# Recompile the model with a lower learning rate\n",
    "model.compile(\n",
    "    optimizer=keras.optimizers.Adam(learning_rate=1e-5),  # Reduced LR\n",
    "    loss='binary_crossentropy',\n",
    "    metrics=['accuracy']\n",
    ")\n",
    "\n",
    "print(\"Base model unfrozen and recompiled.\")"
   ]
  },
  {
   "cell_type": "markdown",
   "metadata": {
    "id": "UraK3iJyEuMx"
   },
   "source": [
    "# Adjust Data Augmentation\n",
    "\n",
    "Add more aggressive augmentation to handle subtle deepfake artifacts\n"
   ]
  },
  {
   "cell_type": "code",
   "execution_count": 14,
   "metadata": {
    "execution": {
     "iopub.execute_input": "2025-04-04T07:37:07.115350Z",
     "iopub.status.busy": "2025-04-04T07:37:07.115077Z",
     "iopub.status.idle": "2025-04-04T07:37:07.127220Z",
     "shell.execute_reply": "2025-04-04T07:37:07.126459Z",
     "shell.execute_reply.started": "2025-04-04T07:37:07.115317Z"
    },
    "id": "15L0ZqgOEvJS",
    "trusted": true
   },
   "outputs": [],
   "source": [
    "train_datagen = keras.preprocessing.image.ImageDataGenerator(\n",
    "        rescale=1./255,\n",
    "    rotation_range=40,\n",
    "    width_shift_range=0.2,\n",
    "    height_shift_range=0.2,\n",
    "    shear_range=0.2,\n",
    "    zoom_range=0.3,\n",
    "    horizontal_flip=True,\n",
    "    brightness_range=[0.7, 1.3],  #  brightness\n",
    "    fill_mode='nearest'\n",
    ")"
   ]
  },
  {
   "cell_type": "markdown",
   "metadata": {
    "id": "0J6BHSkIFBBQ"
   },
   "source": [
    "# Class Balance Check\n",
    "\n",
    "Add class weights if there’s an imbalance:\n"
   ]
  },
  {
   "cell_type": "code",
   "execution_count": 15,
   "metadata": {
    "colab": {
     "base_uri": "https://localhost:8080/"
    },
    "execution": {
     "iopub.execute_input": "2025-04-04T07:37:07.128279Z",
     "iopub.status.busy": "2025-04-04T07:37:07.128059Z",
     "iopub.status.idle": "2025-04-04T07:37:07.163619Z",
     "shell.execute_reply": "2025-04-04T07:37:07.162996Z",
     "shell.execute_reply.started": "2025-04-04T07:37:07.128260Z"
    },
    "id": "m4UmC2pXFC1X",
    "outputId": "b897a575-b0ed-4fc3-beb2-e4b59b32fe48",
    "trusted": true
   },
   "outputs": [
    {
     "name": "stdout",
     "output_type": "stream",
     "text": [
      "Class weights: {0: 1.997631213171238, 1: 2.002374411302983}\n"
     ]
    }
   ],
   "source": [
    "# Calculate class weights (example: if fake = 60%, real = 40%)\n",
    "import numpy as np\n",
    "\n",
    "class_counts = np.array([len(os.listdir(os.path.join(train_dir, 'real'))),\n",
    "                         len(os.listdir(os.path.join(train_dir, 'fake')))])\n",
    "total = class_counts.sum()\n",
    "class_weights = {0: total/class_counts[0], 1: total/class_counts[1]}\n",
    "print(\"Class weights:\", class_weights)"
   ]
  },
  {
   "cell_type": "markdown",
   "metadata": {
    "id": "UP0D7PsQFIxp"
   },
   "source": [
    "# Train with Fine-Tuning\n"
   ]
  },
  {
   "cell_type": "code",
   "execution_count": null,
   "metadata": {
    "colab": {
     "base_uri": "https://localhost:8080/"
    },
    "execution": {
     "iopub.execute_input": "2025-04-04T07:37:07.164618Z",
     "iopub.status.busy": "2025-04-04T07:37:07.164338Z",
     "iopub.status.idle": "2025-04-04T08:52:44.577948Z",
     "shell.execute_reply": "2025-04-04T08:52:44.577109Z",
     "shell.execute_reply.started": "2025-04-04T07:37:07.164588Z"
    },
    "id": "71b0wUF0FJiQ",
    "outputId": "cd09e788-9a36-4d0f-f95e-c595f73f72fa",
    "trusted": true
   },
   "outputs": [
    {
     "name": "stdout",
     "output_type": "stream",
     "text": [
      "Epoch 4/6\n",
      "\u001b[1m3189/3189\u001b[0m \u001b[32m━━━━━━━━━━━━━━━━━━━━\u001b[0m\u001b[37m\u001b[0m \u001b[1m0s\u001b[0m 431ms/step - accuracy: 0.7246 - loss: 1.0390\n",
      "Epoch 4: val_accuracy improved from 0.52150 to 0.91485, saving model to best_model.keras\n",
      "\u001b[1m3189/3189\u001b[0m \u001b[32m━━━━━━━━━━━━━━━━━━━━\u001b[0m\u001b[37m\u001b[0m \u001b[1m1563s\u001b[0m 455ms/step - accuracy: 0.7246 - loss: 1.0389 - val_accuracy: 0.9148 - val_loss: 0.2145 - learning_rate: 1.0000e-05\n",
      "Epoch 5/6\n",
      "\u001b[1m3189/3189\u001b[0m \u001b[32m━━━━━━━━━━━━━━━━━━━━\u001b[0m\u001b[37m\u001b[0m \u001b[1m0s\u001b[0m 420ms/step - accuracy: 0.9194 - loss: 0.4071\n",
      "Epoch 5: val_accuracy improved from 0.91485 to 0.95365, saving model to best_model.keras\n",
      "\u001b[1m3189/3189\u001b[0m \u001b[32m━━━━━━━━━━━━━━━━━━━━\u001b[0m\u001b[37m\u001b[0m \u001b[1m1418s\u001b[0m 444ms/step - accuracy: 0.9194 - loss: 0.4071 - val_accuracy: 0.9536 - val_loss: 0.1242 - learning_rate: 1.0000e-05\n",
      "Epoch 6/6\n",
      "\u001b[1m3189/3189\u001b[0m \u001b[32m━━━━━━━━━━━━━━━━━━━━\u001b[0m\u001b[37m\u001b[0m \u001b[1m0s\u001b[0m 466ms/step - accuracy: 0.9501 - loss: 0.2681\n",
      "Epoch 6: val_accuracy improved from 0.95365 to 0.96880, saving model to best_model.keras\n",
      "\u001b[1m3189/3189\u001b[0m \u001b[32m━━━━━━━━━━━━━━━━━━━━\u001b[0m\u001b[37m\u001b[0m \u001b[1m1555s\u001b[0m 487ms/step - accuracy: 0.9501 - loss: 0.2681 - val_accuracy: 0.9688 - val_loss: 0.0856 - learning_rate: 1.0000e-05\n",
      "Restoring model weights from the end of the best epoch: 6.\n"
     ]
    }
   ],
   "source": [
    "# Continue training with unfrozen layers\n",
    "fine_tune_epochs = 4\n",
    "total_epochs =2+fine_tune_epochs\n",
    "\n",
    "history_fine = model.fit(\n",
    "    train_generator,\n",
    "    epochs=total_epochs,\n",
    "    initial_epoch=history.epoch[-1],  # Start from last epoch\n",
    "    validation_data=valid_generator,\n",
    "    callbacks=[checkpoint_cb, reduce_lr_cb, early_stop_cb, csv_logger],\n",
    "    class_weight=class_weights  \n",
    ")"
   ]
  },
  {
   "cell_type": "code",
   "execution_count": 17,
   "metadata": {
    "execution": {
     "iopub.execute_input": "2025-04-04T08:52:44.579251Z",
     "iopub.status.busy": "2025-04-04T08:52:44.579032Z",
     "iopub.status.idle": "2025-04-04T08:52:45.934183Z",
     "shell.execute_reply": "2025-04-04T08:52:45.933521Z",
     "shell.execute_reply.started": "2025-04-04T08:52:44.579232Z"
    },
    "id": "cQFGeQNZqvKI",
    "trusted": true
   },
   "outputs": [],
   "source": [
    "model.save('my_deepfake_model_with_fine_tuning_04_April.keras')"
   ]
  },
  {
   "cell_type": "code",
   "execution_count": 18,
   "metadata": {
    "execution": {
     "iopub.execute_input": "2025-04-04T08:52:45.935160Z",
     "iopub.status.busy": "2025-04-04T08:52:45.934925Z",
     "iopub.status.idle": "2025-04-04T08:52:45.940945Z",
     "shell.execute_reply": "2025-04-04T08:52:45.940229Z",
     "shell.execute_reply.started": "2025-04-04T08:52:45.935140Z"
    },
    "trusted": true
   },
   "outputs": [
    {
     "data": {
      "text/html": [
       "<a href='my_deepfake_model_with_fine_tuning_04_April.keras' target='_blank'>my_deepfake_model_with_fine_tuning_04_April.keras</a><br>"
      ],
      "text/plain": [
       "/kaggle/working/my_deepfake_model_with_fine_tuning_04_April.keras"
      ]
     },
     "execution_count": 18,
     "metadata": {},
     "output_type": "execute_result"
    }
   ],
   "source": [
    "from IPython.display import FileLink\n",
    "FileLink(r'my_deepfake_model_with_fine_tuning_04_April.keras')"
   ]
  },
  {
   "cell_type": "code",
   "execution_count": 19,
   "metadata": {
    "execution": {
     "iopub.execute_input": "2025-04-04T08:52:45.942040Z",
     "iopub.status.busy": "2025-04-04T08:52:45.941782Z",
     "iopub.status.idle": "2025-04-04T08:52:47.192843Z",
     "shell.execute_reply": "2025-04-04T08:52:47.191981Z",
     "shell.execute_reply.started": "2025-04-04T08:52:45.942015Z"
    },
    "id": "dm4QwqgpudUd",
    "trusted": true
   },
   "outputs": [],
   "source": [
    "#ew imports\n",
    "import seaborn as sns\n",
    "import matplotlib.pyplot as plt\n",
    "import cv2\n",
    "from sklearn.metrics import classification_report, confusion_matrix\n",
    "from tensorflow.keras import backend as K"
   ]
  },
  {
   "cell_type": "code",
   "execution_count": 20,
   "metadata": {
    "execution": {
     "iopub.execute_input": "2025-04-04T08:52:47.196455Z",
     "iopub.status.busy": "2025-04-04T08:52:47.195941Z",
     "iopub.status.idle": "2025-04-04T08:52:47.203848Z",
     "shell.execute_reply": "2025-04-04T08:52:47.203040Z",
     "shell.execute_reply.started": "2025-04-04T08:52:47.196424Z"
    },
    "id": "MchQKZGEv_DF",
    "trusted": true
   },
   "outputs": [],
   "source": [
    "# Custom F1 Score metric\n",
    "class F1Score(tf.keras.metrics.Metric):\n",
    "    def __init__(self, name='f1_score', **kwargs):\n",
    "        super().__init__(name=name, **kwargs)\n",
    "        self.precision = tf.keras.metrics.Precision()\n",
    "        self.recall = tf.keras.metrics.Recall()\n",
    "\n",
    "    def update_state(self, y_true, y_pred, sample_weight=None):\n",
    "        self.precision.update_state(y_true, y_pred)\n",
    "        self.recall.update_state(y_true, y_pred)\n",
    "\n",
    "    def result(self):\n",
    "        p = self.precision.result()\n",
    "        r = self.recall.result()\n",
    "        return 2 * ((p * r) / (p + r + K.epsilon()))\n",
    "\n",
    "    def reset_states(self):\n",
    "        self.precision.reset_states()\n",
    "        self.recall.reset_states()"
   ]
  },
  {
   "cell_type": "code",
   "execution_count": null,
   "metadata": {
    "execution": {
     "iopub.execute_input": "2025-04-04T08:52:47.205479Z",
     "iopub.status.busy": "2025-04-04T08:52:47.205253Z",
     "iopub.status.idle": "2025-04-04T08:52:47.234541Z",
     "shell.execute_reply": "2025-04-04T08:52:47.233979Z",
     "shell.execute_reply.started": "2025-04-04T08:52:47.205460Z"
    },
    "id": "YlXYzMMWwFf6",
    "trusted": true
   },
   "outputs": [],
   "source": [
    "def compile_model(model):\n",
    "    model.compile(\n",
    "        optimizer=keras.optimizers.Adam(learning_rate=1e-5),\n",
    "        loss='binary_crossentropy',\n",
    "        metrics=[\n",
    "            'accuracy',\n",
    "            tf.keras.metrics.Precision(name='precision'),\n",
    "            tf.keras.metrics.Recall(name='recall'),\n",
    "            F1Score()\n",
    "        ]\n",
    "    )\n",
    "\n",
    "\n",
    "compile_model(model)"
   ]
  },
  {
   "cell_type": "code",
   "execution_count": 22,
   "metadata": {
    "colab": {
     "base_uri": "https://localhost:8080/"
    },
    "execution": {
     "iopub.execute_input": "2025-04-04T08:52:47.235483Z",
     "iopub.status.busy": "2025-04-04T08:52:47.235273Z",
     "iopub.status.idle": "2025-04-04T08:59:07.448241Z",
     "shell.execute_reply": "2025-04-04T08:59:07.447332Z",
     "shell.execute_reply.started": "2025-04-04T08:52:47.235453Z"
    },
    "id": "itDE82z7wHEM",
    "outputId": "86d5044a-98f6-4dd4-c07a-941e52021ed4",
    "trusted": true
   },
   "outputs": [
    {
     "name": "stdout",
     "output_type": "stream",
     "text": [
      "\n",
      "Final Evaluation:\n"
     ]
    },
    {
     "name": "stderr",
     "output_type": "stream",
     "text": [
      "/usr/local/lib/python3.10/dist-packages/keras/src/trainers/data_adapters/py_dataset_adapter.py:122: UserWarning: Your `PyDataset` class should call `super().__init__(**kwargs)` in its constructor. `**kwargs` can include `workers`, `use_multiprocessing`, `max_queue_size`. Do not pass these arguments to `fit()`, as they will be ignored.\n",
      "  self._warn_if_super_not_called()\n"
     ]
    },
    {
     "name": "stdout",
     "output_type": "stream",
     "text": [
      "\u001b[1m625/625\u001b[0m \u001b[32m━━━━━━━━━━━━━━━━━━━━\u001b[0m\u001b[37m\u001b[0m \u001b[1m200s\u001b[0m 308ms/step\n",
      "\n",
      "Classification Report:\n",
      "              precision    recall  f1-score   support\n",
      "\n",
      "        Real       0.95      0.99      0.97     10000\n",
      "        Fake       0.99      0.94      0.97     10000\n",
      "\n",
      "    accuracy                           0.97     20000\n",
      "   macro avg       0.97      0.97      0.97     20000\n",
      "weighted avg       0.97      0.97      0.97     20000\n",
      "\n",
      "Confusion Matrix:\n",
      "[[9939   61]\n",
      " [ 575 9425]]\n"
     ]
    },
    {
     "data": {
      "image/png": "[encoded data removed]",
      "text/plain": [
       "<Figure size 1000x500 with 3 Axes>"
      ]
     },
     "metadata": {},
     "output_type": "display_data"
    }
   ],
   "source": [
    "def evaluate_model(model, test_generator):\n",
    "    # Generate predictions\n",
    "    y_pred = model.predict(test_generator)\n",
    "    y_pred = (y_pred > 0.5).astype(int)\n",
    "\n",
    "    # Get true labels\n",
    "    y_true = test_generator.classes\n",
    "\n",
    "    # Classification report\n",
    "    print(\"\\nClassification Report:\")\n",
    "    print(classification_report(y_true, y_pred, target_names=['Real', 'Fake']))\n",
    "\n",
    "    # Confusion matrix\n",
    "    cm = confusion_matrix(y_true, y_pred)\n",
    "    print(\"Confusion Matrix:\")\n",
    "    print(cm)\n",
    "\n",
    "    # Visual metrics\n",
    "    plt.figure(figsize=(10, 5))\n",
    "    plt.subplot(1, 2, 1)\n",
    "    sns.heatmap(cm, annot=True, fmt='d', cmap='Blues')\n",
    "    plt.title('Confusion Matrix')\n",
    "    plt.xlabel('Predicted')\n",
    "    plt.ylabel('True')\n",
    "\n",
    "    plt.subplot(1, 2, 2)\n",
    "    metrics = ['accuracy', 'precision', 'recall', 'f1_score']\n",
    "    values = [model.evaluate(test_generator, verbose=0)[i+1] for i in range(4)]\n",
    "    plt.bar(metrics, values)\n",
    "    plt.title('Test Metrics')\n",
    "    plt.ylim(0, 1)\n",
    "    plt.show()\n",
    "\n",
    "#after training\n",
    "print(\"\\nFinal Evaluation:\")\n",
    "evaluate_model(model, test_generator)"
   ]
  },
  {
   "cell_type": "code",
   "execution_count": 23,
   "metadata": {
    "execution": {
     "iopub.execute_input": "2025-04-04T08:59:07.449645Z",
     "iopub.status.busy": "2025-04-04T08:59:07.449325Z",
     "iopub.status.idle": "2025-04-04T08:59:07.455100Z",
     "shell.execute_reply": "2025-04-04T08:59:07.454209Z",
     "shell.execute_reply.started": "2025-04-04T08:59:07.449613Z"
    },
    "id": "OW-4NErRwSQV",
    "trusted": true
   },
   "outputs": [
    {
     "data": {
      "text/plain": [
       "'def make_gradcam_heatmap(img_array, model, last_conv_layer_name=\\'top_conv\\'):\\n    grad_model = tf.keras.models.Model(\\n        [model.inputs], [model.get_layer(last_conv_layer_name).output, model.output]\\n    )\\n\\n    with tf.GradientTape() as tape:\\n        conv_outputs, predictions = grad_model(img_array)\\n        loss = predictions[:, 0]  # For binary classification\\n\\n    grads = tape.gradient(loss, conv_outputs)\\n    pooled_grads = tf.reduce_mean(grads, axis=(0, 1, 2))\\n\\n    heatmap = tf.reduce_mean(tf.multiply(pooled_grads, conv_outputs), axis=-1)\\n    heatmap = np.maximum(heatmap, 0)\\n    heatmap /= np.max(heatmap)\\n    return heatmap[0]\\n\\ndef visualize_explanations(test_generator, model, num_samples=3):\\n    images, labels = next(test_generator)\\n\\n    plt.figure(figsize=(15, 5))\\n    for i in range(num_samples):\\n        img_array = np.expand_dims(images[i], axis=0)\\n        heatmap = make_gradcam_heatmap(img_array, model)\\n\\n        # Resize and create overlay\\n        heatmap = cv2.resize(heatmap, (224, 224))\\n        heatmap = np.uint8(255 * heatmap)\\n        heatmap = cv2.applyColorMap(heatmap, cv2.COLORMAP_JET)\\n        superimposed_img = heatmap * 0.4 + images[i] * 0.6\\n\\n        plt.subplot(1, num_samples, i+1)\\n        plt.imshow(superimposed_img.astype(\\'uint8\\'))\\n        plt.title(f\"True: {\\'Real\\' if labels[i]==0 else \\'Fake\\'}\\nPred: {model.predict(img_array)[0][0]:.2f}\")\\n        plt.axis(\\'off\\')\\n    plt.show()\\n\\n# Run after evaluation\\nprint(\"\\nSample Explanations:\")\\nvisualize_explanations(test_generator, model)\\n'"
      ]
     },
     "execution_count": 23,
     "metadata": {},
     "output_type": "execute_result"
    }
   ],
   "source": [
    "\"\"\"def make_gradcam_heatmap(img_array, model, last_conv_layer_name='top_conv'):\n",
    "    grad_model = tf.keras.models.Model(\n",
    "        [model.inputs], [model.get_layer(last_conv_layer_name).output, model.output]\n",
    "    )\n",
    "\n",
    "    with tf.GradientTape() as tape:\n",
    "        conv_outputs, predictions = grad_model(img_array)\n",
    "        loss = predictions[:, 0]  # For binary classification\n",
    "\n",
    "    grads = tape.gradient(loss, conv_outputs)\n",
    "    pooled_grads = tf.reduce_mean(grads, axis=(0, 1, 2))\n",
    "\n",
    "    heatmap = tf.reduce_mean(tf.multiply(pooled_grads, conv_outputs), axis=-1)\n",
    "    heatmap = np.maximum(heatmap, 0)\n",
    "    heatmap /= np.max(heatmap)\n",
    "    return heatmap[0]\n",
    "\n",
    "def visualize_explanations(test_generator, model, num_samples=3):\n",
    "    images, labels = next(test_generator)\n",
    "\n",
    "    plt.figure(figsize=(15, 5))\n",
    "    for i in range(num_samples):\n",
    "        img_array = np.expand_dims(images[i], axis=0)\n",
    "        heatmap = make_gradcam_heatmap(img_array, model)\n",
    "\n",
    "        # Resize and create overlay\n",
    "        heatmap = cv2.resize(heatmap, (224, 224))\n",
    "        heatmap = np.uint8(255 * heatmap)\n",
    "        heatmap = cv2.applyColorMap(heatmap, cv2.COLORMAP_JET)\n",
    "        superimposed_img = heatmap * 0.4 + images[i] * 0.6\n",
    "\n",
    "        plt.subplot(1, num_samples, i+1)\n",
    "        plt.imshow(superimposed_img.astype('uint8'))\n",
    "        plt.title(f\"True: {'Real' if labels[i]==0 else 'Fake'}\\nPred: {model.predict(img_array)[0][0]:.2f}\")\n",
    "        plt.axis('off')\n",
    "    plt.show()\n",
    "\n",
    "# Run after evaluation\n",
    "print(\"\\nSample Explanations:\")\n",
    "visualize_explanations(test_generator, model)\n",
    "\"\"\""
   ]
  },
  {
   "cell_type": "code",
   "execution_count": null,
   "metadata": {
    "execution": {
     "iopub.execute_input": "2025-04-04T08:59:07.456136Z",
     "iopub.status.busy": "2025-04-04T08:59:07.455822Z",
     "iopub.status.idle": "2025-04-04T08:59:08.215524Z",
     "shell.execute_reply": "2025-04-04T08:59:08.214832Z",
     "shell.execute_reply.started": "2025-04-04T08:59:07.456106Z"
    },
    "id": "BreGQbBzwvgu",
    "trusted": true
   },
   "outputs": [],
   "source": [
    "# After all training and evaluation\n",
    "model.save('my_deepfake_model_with_fine_tuning_04_April_part2.keras')  "
   ]
  },
  {
   "cell_type": "code",
   "execution_count": 25,
   "metadata": {
    "execution": {
     "iopub.execute_input": "2025-04-04T08:59:08.216450Z",
     "iopub.status.busy": "2025-04-04T08:59:08.216247Z",
     "iopub.status.idle": "2025-04-04T08:59:08.221367Z",
     "shell.execute_reply": "2025-04-04T08:59:08.220591Z",
     "shell.execute_reply.started": "2025-04-04T08:59:08.216432Z"
    },
    "trusted": true
   },
   "outputs": [
    {
     "data": {
      "text/html": [
       "<a href='my_deepfake_model_with_fine_tuning_04_April_part2.keras' target='_blank'>my_deepfake_model_with_fine_tuning_04_April_part2.keras</a><br>"
      ],
      "text/plain": [
       "/kaggle/working/my_deepfake_model_with_fine_tuning_04_April_part2.keras"
      ]
     },
     "execution_count": 25,
     "metadata": {},
     "output_type": "execute_result"
    }
   ],
   "source": [
    "from IPython.display import FileLink\n",
    "FileLink(r'my_deepfake_model_with_fine_tuning_04_April_part2.keras')"
   ]
  },
  {
   "cell_type": "code",
   "execution_count": null,
   "metadata": {
    "execution": {
     "iopub.execute_input": "2025-04-04T08:59:08.222673Z",
     "iopub.status.busy": "2025-04-04T08:59:08.222355Z",
     "iopub.status.idle": "2025-04-04T08:59:08.234238Z",
     "shell.execute_reply": "2025-04-04T08:59:08.233521Z",
     "shell.execute_reply.started": "2025-04-04T08:59:08.222633Z"
    },
    "trusted": true
   },
   "outputs": [],
   "source": [
    "def preprocess_image(image_path, target_size=(224, 224)):\n",
    "    img = cv2.imread(image_path)\n",
    "    if img is None:\n",
    "        raise FileNotFoundError(f\"Error: Unable to load image at {image_path}\")\n",
    "\n",
    "    img = cv2.cvtColor(img, cv2.COLOR_BGR2RGB)  \n",
    "    img = cv2.resize(img, target_size) \n",
    "    img = img.astype('float32') / 255.0  \n",
    "    img = np.expand_dims(img, axis=0)  \n",
    "    return img\n"
   ]
  },
  {
   "cell_type": "code",
   "execution_count": 27,
   "metadata": {
    "execution": {
     "iopub.execute_input": "2025-04-04T08:59:08.235272Z",
     "iopub.status.busy": "2025-04-04T08:59:08.234986Z",
     "iopub.status.idle": "2025-04-04T08:59:18.221235Z",
     "shell.execute_reply": "2025-04-04T08:59:18.220396Z",
     "shell.execute_reply.started": "2025-04-04T08:59:08.235241Z"
    },
    "trusted": true
   },
   "outputs": [
    {
     "name": "stdout",
     "output_type": "stream",
     "text": [
      "\u001b[1m1/1\u001b[0m \u001b[32m━━━━━━━━━━━━━━━━━━━━\u001b[0m\u001b[37m\u001b[0m \u001b[1m10s\u001b[0m 10s/step\n",
      "Prediction: Real\n",
      "Confidence Score: 0.9878\n"
     ]
    }
   ],
   "source": [
    "image_path2 = '/kaggle/input/deepfake-dataset/real_vs_fake/real-vs-fake/test/real/00007.jpg' \n",
    "input_image = preprocess_image(image_path2)\n",
    "prediction = model.predict(input_image)\n",
    "\n",
    "threshold = 0.6 \n",
    "if prediction[0][0] < threshold:\n",
    "    print(\"Prediction: Fake\")\n",
    "else:\n",
    "    print(\"Prediction: Real\")\n",
    "\n",
    "print(f\"Confidence Score: {prediction[0][0]:.4f}\")"
   ]
  },
  {
   "cell_type": "code",
   "execution_count": 28,
   "metadata": {
    "execution": {
     "iopub.execute_input": "2025-04-04T08:59:18.222577Z",
     "iopub.status.busy": "2025-04-04T08:59:18.222250Z",
     "iopub.status.idle": "2025-04-04T08:59:18.294863Z",
     "shell.execute_reply": "2025-04-04T08:59:18.294224Z",
     "shell.execute_reply.started": "2025-04-04T08:59:18.222543Z"
    },
    "trusted": true
   },
   "outputs": [
    {
     "name": "stdout",
     "output_type": "stream",
     "text": [
      "\u001b[1m1/1\u001b[0m \u001b[32m━━━━━━━━━━━━━━━━━━━━\u001b[0m\u001b[37m\u001b[0m \u001b[1m0s\u001b[0m 26ms/step\n",
      "Prediction: Fake\n",
      "Confidence Score: 0.0589\n"
     ]
    }
   ],
   "source": [
    "image_path3 = '/kaggle/input/deepfake-dataset/real_vs_fake/real-vs-fake/test/fake/00276TOPP4.jpg' \n",
    "input_image3 = preprocess_image(image_path3)\n",
    "prediction3 = model.predict(input_image3)\n",
    "\n",
    "threshold = 0.6 \n",
    "if prediction3[0][0] < threshold:\n",
    "    print(\"Prediction: Fake\")\n",
    "else:\n",
    "    print(\"Prediction: Real\")\n",
    "\n",
    "print(f\"Confidence Score: {prediction3[0][0]:.4f}\")"
   ]
  },
  {
   "cell_type": "code",
   "execution_count": 29,
   "metadata": {
    "execution": {
     "iopub.execute_input": "2025-04-04T08:59:18.295722Z",
     "iopub.status.busy": "2025-04-04T08:59:18.295524Z",
     "iopub.status.idle": "2025-04-04T08:59:18.362696Z",
     "shell.execute_reply": "2025-04-04T08:59:18.362063Z",
     "shell.execute_reply.started": "2025-04-04T08:59:18.295705Z"
    },
    "trusted": true
   },
   "outputs": [
    {
     "name": "stdout",
     "output_type": "stream",
     "text": [
      "\u001b[1m1/1\u001b[0m \u001b[32m━━━━━━━━━━━━━━━━━━━━\u001b[0m\u001b[37m\u001b[0m \u001b[1m0s\u001b[0m 24ms/step\n",
      "Prediction: Fake\n",
      "Confidence Score: 0.0001\n"
     ]
    }
   ],
   "source": [
    "image_path4 = '/kaggle/input/deepfake-dataset/real_vs_fake/real-vs-fake/test/fake/00KEKJJ1Q4.jpg' \n",
    "input_image4 = preprocess_image(image_path4)\n",
    "prediction4 = model.predict(input_image4)\n",
    "\n",
    "threshold = 0.6 \n",
    "if prediction4[0][0] < threshold:\n",
    "    print(\"Prediction: Fake\")\n",
    "else:\n",
    "    print(\"Prediction: Real\")\n",
    "\n",
    "print(f\"Confidence Score: {prediction4[0][0]:.4f}\")"
   ]
  },
  {
   "cell_type": "code",
   "execution_count": 30,
   "metadata": {
    "execution": {
     "iopub.execute_input": "2025-04-04T09:07:36.211247Z",
     "iopub.status.busy": "2025-04-04T09:07:36.210851Z",
     "iopub.status.idle": "2025-04-04T09:07:36.216785Z",
     "shell.execute_reply": "2025-04-04T09:07:36.215830Z",
     "shell.execute_reply.started": "2025-04-04T09:07:36.211218Z"
    },
    "trusted": true
   },
   "outputs": [
    {
     "data": {
      "text/html": [
       "<a href='best_model.keras' target='_blank'>best_model.keras</a><br>"
      ],
      "text/plain": [
       "/kaggle/working/best_model.keras"
      ]
     },
     "execution_count": 30,
     "metadata": {},
     "output_type": "execute_result"
    }
   ],
   "source": [
    "from IPython.display import FileLink\n",
    "FileLink(r'best_model.keras')"
   ]
  },
  {
   "cell_type": "code",
   "execution_count": 31,
   "metadata": {
    "execution": {
     "iopub.execute_input": "2025-04-04T09:16:57.640417Z",
     "iopub.status.busy": "2025-04-04T09:16:57.639951Z",
     "iopub.status.idle": "2025-04-04T09:16:57.721291Z",
     "shell.execute_reply": "2025-04-04T09:16:57.720599Z",
     "shell.execute_reply.started": "2025-04-04T09:16:57.640389Z"
    },
    "trusted": true
   },
   "outputs": [
    {
     "name": "stdout",
     "output_type": "stream",
     "text": [
      "\u001b[1m1/1\u001b[0m \u001b[32m━━━━━━━━━━━━━━━━━━━━\u001b[0m\u001b[37m\u001b[0m \u001b[1m0s\u001b[0m 27ms/step\n",
      "Prediction 5: Real\n",
      "Confidence Score of 5th is: 0.9823\n"
     ]
    }
   ],
   "source": [
    "image_path5 = '/kaggle/input/deepfake-dataset/real_vs_fake/real-vs-fake/test/real/00104.jpg' \n",
    "input_image5 = preprocess_image(image_path5)\n",
    "prediction5 = model.predict(input_image5)\n",
    "\n",
    "threshold = 0.6 \n",
    "if prediction5[0][0] < threshold:\n",
    "    print(\"Prediction 5: Fake\")\n",
    "else:\n",
    "    print(\"Prediction 5: Real\")\n",
    "\n",
    "print(f\"Confidence Score of 5th is: {prediction5[0][0]:.4f}\")"
   ]
  },
  {
   "cell_type": "code",
   "execution_count": 32,
   "metadata": {
    "execution": {
     "iopub.execute_input": "2025-04-04T09:20:14.443054Z",
     "iopub.status.busy": "2025-04-04T09:20:14.442650Z",
     "iopub.status.idle": "2025-04-04T09:20:14.566325Z",
     "shell.execute_reply": "2025-04-04T09:20:14.565413Z",
     "shell.execute_reply.started": "2025-04-04T09:20:14.443023Z"
    },
    "trusted": true
   },
   "outputs": [
    {
     "name": "stdout",
     "output_type": "stream",
     "text": [
      "\u001b[1m1/1\u001b[0m \u001b[32m━━━━━━━━━━━━━━━━━━━━\u001b[0m\u001b[37m\u001b[0m \u001b[1m0s\u001b[0m 30ms/step\n",
      "Prediction 6: Real\n",
      "Confidence Score of 6th is: 0.9847\n"
     ]
    }
   ],
   "source": [
    "image_path6 = '/kaggle/input/deepfake-dataset/real_vs_fake/real-vs-fake/test/real/00170.jpg' \n",
    "input_image6 = preprocess_image(image_path6)\n",
    "prediction6 = model.predict(input_image6)\n",
    "\n",
    "threshold = 0.6 \n",
    "if prediction6[0][0] < threshold:\n",
    "    print(\"Prediction 6: Fake\")\n",
    "else:\n",
    "    print(\"Prediction 6: Real\")\n",
    "\n",
    "print(f\"Confidence Score of 6th is: {prediction6[0][0]:.4f}\")"
   ]
  },
  {
   "cell_type": "code",
   "execution_count": 33,
   "metadata": {
    "execution": {
     "iopub.execute_input": "2025-04-04T09:21:42.968704Z",
     "iopub.status.busy": "2025-04-04T09:21:42.968294Z",
     "iopub.status.idle": "2025-04-04T09:21:43.065960Z",
     "shell.execute_reply": "2025-04-04T09:21:43.065116Z",
     "shell.execute_reply.started": "2025-04-04T09:21:42.968673Z"
    },
    "trusted": true
   },
   "outputs": [
    {
     "name": "stdout",
     "output_type": "stream",
     "text": [
      "\u001b[1m1/1\u001b[0m \u001b[32m━━━━━━━━━━━━━━━━━━━━\u001b[0m\u001b[37m\u001b[0m \u001b[1m0s\u001b[0m 27ms/step\n",
      "Prediction 7: Fake\n",
      "Confidence Score of 7th is: 0.0036\n"
     ]
    }
   ],
   "source": [
    "image_path7 = '/kaggle/input/deepfake-dataset/real_vs_fake/real-vs-fake/test/fake/02YD6CVUGS.jpg' \n",
    "input_image7 = preprocess_image(image_path7)\n",
    "prediction7 = model.predict(input_image7)\n",
    "\n",
    "threshold = 0.6 \n",
    "if prediction7[0][0] < threshold:\n",
    "    print(\"Prediction 7: Fake\")\n",
    "else:\n",
    "    print(\"Prediction 7: Real\")\n",
    "\n",
    "print(f\"Confidence Score of 7th is: {prediction7[0][0]:.4f}\")"
   ]
  },
  {
   "cell_type": "code",
   "execution_count": 35,
   "metadata": {
    "execution": {
     "iopub.execute_input": "2025-04-04T09:26:33.791875Z",
     "iopub.status.busy": "2025-04-04T09:26:33.791492Z",
     "iopub.status.idle": "2025-04-04T09:26:33.865633Z",
     "shell.execute_reply": "2025-04-04T09:26:33.864988Z",
     "shell.execute_reply.started": "2025-04-04T09:26:33.791843Z"
    },
    "trusted": true
   },
   "outputs": [
    {
     "name": "stdout",
     "output_type": "stream",
     "text": [
      "\u001b[1m1/1\u001b[0m \u001b[32m━━━━━━━━━━━━━━━━━━━━\u001b[0m\u001b[37m\u001b[0m \u001b[1m0s\u001b[0m 26ms/step\n",
      "Prediction 8: Fake\n",
      "Confidence Score of 8th is: 0.0000\n"
     ]
    }
   ],
   "source": [
    "image_path8 = '/kaggle/input/deepfake-dataset/real_vs_fake/real-vs-fake/test/fake/02XAKN4F4U.jpg' \n",
    "input_image8 = preprocess_image(image_path8)\n",
    "prediction8 = model.predict(input_image8)\n",
    "\n",
    "threshold = 0.6 \n",
    "if prediction8[0][0] < threshold:\n",
    "    print(\"Prediction 8: Fake\")\n",
    "else:\n",
    "    print(\"Prediction 8: Real\")\n",
    "\n",
    "print(f\"Confidence Score of 8th is: {prediction8[0][0]:.4f}\")"
   ]
  },
  {
   "cell_type": "code",
   "execution_count": 36,
   "metadata": {
    "execution": {
     "iopub.execute_input": "2025-04-04T10:26:49.177122Z",
     "iopub.status.busy": "2025-04-04T10:26:49.176762Z",
     "iopub.status.idle": "2025-04-04T10:26:49.260721Z",
     "shell.execute_reply": "2025-04-04T10:26:49.260000Z",
     "shell.execute_reply.started": "2025-04-04T10:26:49.177091Z"
    },
    "trusted": true
   },
   "outputs": [
    {
     "name": "stdout",
     "output_type": "stream",
     "text": [
      "\u001b[1m1/1\u001b[0m \u001b[32m━━━━━━━━━━━━━━━━━━━━\u001b[0m\u001b[37m\u001b[0m \u001b[1m0s\u001b[0m 27ms/step\n",
      "Prediction 9: Fake\n",
      "Confidence Score of 9th is: 0.0024\n"
     ]
    }
   ],
   "source": [
    "image_path9 = '/kaggle/input/deepfake-dataset/real_vs_fake/real-vs-fake/test/fake/02TPLQKRQB.jpg' \n",
    "input_image9 = preprocess_image(image_path9)\n",
    "prediction9 = model.predict(input_image9)\n",
    "\n",
    "threshold = 0.6 \n",
    "if prediction9[0][0] < threshold:\n",
    "    print(\"Prediction 9: Fake\")\n",
    "else:\n",
    "    print(\"Prediction 9: Real\")\n",
    "\n",
    "print(f\"Confidence Score of 9th is: {prediction9[0][0]:.4f}\")"
   ]
  }
 ],
 "metadata": {
  "accelerator": "GPU",
  "colab": {
   "gpuType": "T4",
   "provenance": []
  },
  "kaggle": {
   "accelerator": "nvidiaTeslaT4",
   "dataSources": [
    {
     "datasetId": 4564185,
     "sourceId": 7796037,
     "sourceType": "datasetVersion"
    },
    {
     "datasetId": 6921583,
     "sourceId": 11103030,
     "sourceType": "datasetVersion"
    },
    {
     "datasetId": 6921611,
     "sourceId": 11103065,
     "sourceType": "datasetVersion"
    }
   ],
   "dockerImageVersionId": 30919,
   "isGpuEnabled": true,
   "isInternetEnabled": true,
   "language": "python",
   "sourceType": "notebook"
  },
  "kernelspec": {
   "display_name": "Python 3",
   "language": "python",
   "name": "python3"
  },
  "language_info": {
   "codemirror_mode": {
    "name": "ipython",
    "version": 3
   },
   "file_extension": ".py",
   "mimetype": "text/x-python",
   "name": "python",
   "nbconvert_exporter": "python",
   "pygments_lexer": "ipython3",
   "version": "3.10.12"
  }
 },
 "nbformat": 4,
 "nbformat_minor": 4
}
